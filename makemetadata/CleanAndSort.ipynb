{
 "cells": [
  {
   "cell_type": "markdown",
   "metadata": {},
   "source": [
    "# Sorting and normalizing metadata\n",
    "\n",
    "From June through September, 2020, we manually checked genre for about a thousand volumes identified as English-language fiction and biography. But the genres were often misidentified by the algorithmic process that selected these titles, so bio and fic ended up jumbled together in the same files.\n",
    "\n",
    "This Jupyter notebook assembles that data and sorts it into separate data frames for fiction and biography. It also \"normalizes\" the metadata. Human coders may use many slightly different versions of the same label, but when the data is ultimately used by an algorithm, we're going to need those labels to all be exactly the same."
   ]
  },
  {
   "cell_type": "code",
   "execution_count": 1,
   "metadata": {},
   "outputs": [],
   "source": [
    "import pandas as pd\n",
    "import os, glob\n",
    "from collections import Counter\n",
    "from matplotlib import pyplot as plt\n",
    "%matplotlib inline"
   ]
  },
  {
   "cell_type": "code",
   "execution_count": 2,
   "metadata": {},
   "outputs": [
    {
     "data": {
      "text/plain": [
       "['fictionmeta/supplementary_peizhen_fic.tsv',\n",
       " 'fictionmeta/peizhenfic_summer.tsv',\n",
       " 'fictionmeta/current_wenyi_fic.tsv',\n",
       " 'fictionmeta/current_morgan_fic.tsv',\n",
       " 'fictionmeta/allmatchedbiographies.tsv',\n",
       " 'fictionmeta/current_ted_fic.tsv']"
      ]
     },
     "execution_count": 2,
     "metadata": {},
     "output_type": "execute_result"
    }
   ],
   "source": [
    "sourcefiles = glob.glob('fictionmeta/*.tsv')\n",
    "sourcefiles"
   ]
  },
  {
   "cell_type": "markdown",
   "metadata": {},
   "source": [
    "### Sort the rows\n",
    "\n",
    "We go through each file, identify it as bio or fic, and correct a few details."
   ]
  },
  {
   "cell_type": "code",
   "execution_count": 18,
   "metadata": {},
   "outputs": [
    {
     "name": "stdout",
     "output_type": "stream",
     "text": [
      "multiple field:  y\n",
      "multiple field:  nan\n",
      "multiple field:  nan\n",
      "multiple field:  nan\n",
      "multiple field:  nan\n",
      "njp.32101066714179|njp.32101066714187|njp.32101066714195\n",
      "6\n"
     ]
    }
   ],
   "source": [
    "multiplectr = 0\n",
    "noctr = 0\n",
    "\n",
    "biorows = []\n",
    "ficrows = []\n",
    "weirdos = []\n",
    "norows = []\n",
    "\n",
    "weird_audiences = set()\n",
    "\n",
    "for filename in sourcefiles:\n",
    "    data = pd.read_csv(filename, sep = '\\t')\n",
    "    for idx, row in data.iterrows():\n",
    "        \n",
    "        # let's add a column for coder in case we need it later\n",
    "        \n",
    "        if 'peizhen' in filename:\n",
    "            row['coder'] = 'peizhen'\n",
    "        elif 'wenyi' in filename:\n",
    "            row['coder'] = 'wenyi'\n",
    "        elif 'morgan' in filename:\n",
    "            row['coder'] = 'morgan'\n",
    "        elif 'biographies' in filename:\n",
    "            row['coder'] = 'morgan'  # most likely\n",
    "        elif 'ted' in filename:\n",
    "            row['coder'] = 'ted'\n",
    "        \n",
    "        # The next few lines standardize our treatment of vols\n",
    "        # where there are multiple Hathi IDs aligned with a single\n",
    "        # Gutenberg ID. In that situation, we're going to have\n",
    "        # 'y' in the multiplehtids column, and the IDs themselves,\n",
    "        # in order and separated by pipes, in the docid column.\n",
    "        \n",
    "        if '|' in row['docid']:\n",
    "            print(\"multiple field: \", row['multiplehtids'])\n",
    "            row['multiplehtids'] = 'y'\n",
    "            multiplectr += 1\n",
    "        elif not pd.isnull(row['multiplehtids']) and '|' in row['multiplehtids']:\n",
    "            row['docid'] = row['multiplehtids']\n",
    "            row['multiplehtids'] = 'y'\n",
    "            print(row['docid'])\n",
    "            multiplectr += 1\n",
    "    \n",
    "        # the audience field should either contain nothing,\n",
    "        # or the tag 'juv.' There are lots of other things in there in\n",
    "        # practice, but I'm going to assume they are all equivalent to\n",
    "        # 'juv'. To ensure I'm not making a mistake, I'll print them\n",
    "        \n",
    "        if 'audience' not in row:\n",
    "            row['audience'] = float('nan')\n",
    "            \n",
    "        if (not pd.isnull(row['audience'])) and (not row['audience'] == 'juv'):\n",
    "            weird_audiences.add(row['audience'])\n",
    "            row['audience'] = 'juv'\n",
    "                  \n",
    "        # the following rows just sort bio from fic\n",
    "        # they assume that the genre string will begin with\n",
    "        # either 'bio' or 'fic' (or 'no')\n",
    "        # some special else-if statements deal with\n",
    "        # exceptions and normalize them\n",
    "        \n",
    "        genre = row['genre']\n",
    "        if pd.isnull(genre):\n",
    "            continue\n",
    "        elif genre.startswith('no'):\n",
    "            noctr += 1\n",
    "            norows.append(row)\n",
    "        elif genre.startswith('bio'):\n",
    "            biorows.append(row)\n",
    "        elif genre.startswith('fic'):\n",
    "            ficrows.append(row)\n",
    "        elif genre == 'historical fic':\n",
    "            row['genre'] = 'fic|historical'\n",
    "            ficrows.append(row)\n",
    "        elif genre == 'romance':\n",
    "            row['genre'] = 'fic|romance'\n",
    "            ficrows.append(row)\n",
    "        elif genre == 'adventure fic':\n",
    "            row['genre'] = 'fic'\n",
    "            ficrows.append(row)\n",
    "        else:\n",
    "            # what even is this?\n",
    "            weirdos.append(genre)\n",
    "            print(filename)\n",
    "\n",
    "biodf = pd.DataFrame(biorows)\n",
    "ficdf = pd.DataFrame(ficrows)\n",
    "nodf = pd.DataFrame(norows)\n",
    "            \n",
    "print(multiplectr)           "
   ]
  },
  {
   "cell_type": "code",
   "execution_count": 4,
   "metadata": {},
   "outputs": [
    {
     "data": {
      "text/plain": [
       "{'Juvenile audience', 'children', 'juvenile', 'young adults'}"
      ]
     },
     "execution_count": 4,
     "metadata": {},
     "output_type": "execute_result"
    }
   ],
   "source": [
    "weird_audiences"
   ]
  },
  {
   "cell_type": "markdown",
   "metadata": {},
   "source": [
    "Yes we were right to assume that all weird strings in the audience field should be 'juv.'"
   ]
  },
  {
   "cell_type": "code",
   "execution_count": 5,
   "metadata": {},
   "outputs": [
    {
     "data": {
      "text/plain": [
       "(131, 22)"
      ]
     },
     "execution_count": 5,
     "metadata": {},
     "output_type": "execute_result"
    }
   ],
   "source": [
    "biodf.shape"
   ]
  },
  {
   "cell_type": "code",
   "execution_count": 6,
   "metadata": {},
   "outputs": [
    {
     "data": {
      "text/plain": [
       "(564, 22)"
      ]
     },
     "execution_count": 6,
     "metadata": {},
     "output_type": "execute_result"
    }
   ],
   "source": [
    "ficdf.shape"
   ]
  },
  {
   "cell_type": "markdown",
   "metadata": {},
   "source": [
    "### Investigating genre\n",
    "\n",
    "Let's peer into those genre categories a little deeper and normalize them"
   ]
  },
  {
   "cell_type": "code",
   "execution_count": 7,
   "metadata": {},
   "outputs": [
    {
     "name": "stdout",
     "output_type": "stream",
     "text": [
      "\n",
      "COMMON GENRES:\n",
      "fic 564\n",
      "historical 95\n",
      "short 57\n",
      "romance 34\n",
      "domestic 33\n",
      "mystery 30\n",
      "adventure 20\n",
      "folklore 19\n",
      "travel 17\n",
      "western 6\n",
      "historical fic 6\n",
      "children 5\n",
      "fantasy 5\n",
      "juvenile 5\n",
      "historical fiction 4\n",
      "detective 4\n",
      "social 3\n",
      "female 2\n",
      "religious 2\n",
      "Short stories 2\n",
      "Fairy tales 2\n",
      "social life 2\n",
      "sf 2\n",
      "war 1\n",
      "narratives 1\n",
      "historical novel 1\n",
      "science fiction 1\n",
      "gothic 1\n",
      "poetry 1\n",
      "nature 1\n",
      "narrative 1\n",
      "music 1\n",
      "realistic 1\n",
      "myth 1\n",
      "international 1\n",
      "decadant 1\n"
     ]
    }
   ],
   "source": [
    "fiction_genres = ficdf['genre']\n",
    "\n",
    "genrectr = Counter()\n",
    "\n",
    "for genre in fiction_genres:\n",
    "    gparts = set(genre.split('|'))\n",
    "    for g in gparts:\n",
    "        g = g.strip()\n",
    "        genrectr[g] += 1\n",
    "\n",
    "print()\n",
    "print(\"COMMON GENRES:\")\n",
    "for g, count in genrectr.most_common():\n",
    "    print(g, count)\n",
    "    "
   ]
  },
  {
   "cell_type": "markdown",
   "metadata": {},
   "source": [
    "The only genres we officially planned to code were mystery, sf (science fiction), romance, short, folklore, and historical. Let's normalize to those. Other categories are too small to be useful for our present purposes.\n"
   ]
  },
  {
   "cell_type": "code",
   "execution_count": 8,
   "metadata": {},
   "outputs": [],
   "source": [
    "official = {'mystery', 'historical', 'short', 'romance', 'mystery', 'folklore', 'sf'}\n",
    "ficdf = ficdf.reset_index()\n",
    "ficdf = ficdf.drop(axis = 1, labels = 'index')\n",
    "\n",
    "for idx in ficdf.index:\n",
    "    genre = ficdf.at[idx, 'genre']\n",
    "    gparts = [x.strip() for x in genre.split('|')]\n",
    "    officialgenres = set()\n",
    "    for g in gparts:\n",
    "        if g in official:\n",
    "            officialgenres.add(g)\n",
    "        elif g == 'science fiction':\n",
    "            officialgenres.add('sf')\n",
    "        elif g == 'historical fic':\n",
    "            officialgenres.add('historical')\n",
    "        elif g == 'historical novel':\n",
    "            officialgenres.add('historical')\n",
    "        elif g == 'Short stories':\n",
    "            officialgenres.add('short')\n",
    "        elif g == 'historical fiction':\n",
    "            officialgenres.add('historical')\n",
    "        elif g == 'detective':\n",
    "            officialgenres.add('mystery')\n",
    "        elif g == 'juvenile':\n",
    "            ficdf.at[idx, 'audience'] = 'juv'\n",
    "        elif g == 'children':\n",
    "            ficdf.at[idx, 'audience'] = 'juv'\n",
    "        else:\n",
    "            pass  # we don't add genres that aren't in this list\n",
    "        \n",
    "    if len(officialgenres) > 0:\n",
    "        normalizedgenrestring = 'fic | ' + ' | '.join(officialgenres)\n",
    "    else:\n",
    "        normalizedgenrestring = 'fic'\n",
    "    \n",
    "    ficdf.at[idx, 'genre'] = normalizedgenrestring\n",
    "    "
   ]
  },
  {
   "cell_type": "code",
   "execution_count": 9,
   "metadata": {},
   "outputs": [],
   "source": [
    "ficdf = ficdf.sort_values(by = 'latestcomp')"
   ]
  },
  {
   "cell_type": "code",
   "execution_count": 13,
   "metadata": {},
   "outputs": [],
   "source": [
    "ficdf.to_csv('annotatednormalizedfictionmeta.tsv', sep = '\\t', index = False)"
   ]
  },
  {
   "cell_type": "code",
   "execution_count": 11,
   "metadata": {},
   "outputs": [],
   "source": [
    "biodf = biodf.sort_values(by = 'latestcomp')"
   ]
  },
  {
   "cell_type": "code",
   "execution_count": 14,
   "metadata": {},
   "outputs": [],
   "source": [
    "biodf.to_csv('annotatednormalizedbiometa.tsv', sep = '\\t', index = False)"
   ]
  },
  {
   "cell_type": "markdown",
   "metadata": {},
   "source": [
    "### How many books for young readers do we have?"
   ]
  },
  {
   "cell_type": "code",
   "execution_count": 15,
   "metadata": {},
   "outputs": [
    {
     "data": {
      "text/plain": [
       "101"
      ]
     },
     "execution_count": 15,
     "metadata": {},
     "output_type": "execute_result"
    }
   ],
   "source": [
    "sum(ficdf['audience'] == 'juv')"
   ]
  },
  {
   "cell_type": "markdown",
   "metadata": {},
   "source": [
    "### What's the approximate distribution across the timeline?"
   ]
  },
  {
   "cell_type": "code",
   "execution_count": 16,
   "metadata": {},
   "outputs": [
    {
     "data": {
      "image/png": "[encoded data removed]",
      "text/plain": [
       "<Figure size 432x288 with 1 Axes>"
      ]
     },
     "metadata": {
      "needs_background": "light"
     },
     "output_type": "display_data"
    }
   ],
   "source": [
    "plt.hist(ficdf['latestcomp'], bins = 50, range = (1700, 1960))\n",
    "plt.show()"
   ]
  },
  {
   "cell_type": "markdown",
   "metadata": {},
   "source": [
    "Unfortunately we don't have enough before 1820; we'll probably need to do a manual dive to find works of fiction in Hathi before 1820 that have Gutenberg (or ECCO) clean text versions."
   ]
  },
  {
   "cell_type": "code",
   "execution_count": 17,
   "metadata": {},
   "outputs": [
    {
     "name": "stdout",
     "output_type": "stream",
     "text": [
      "\n",
      "COMMON GENRES:\n",
      "fic 564\n",
      "historical 106\n",
      "short 59\n",
      "mystery 34\n",
      "romance 34\n",
      "folklore 19\n",
      "sf 3\n"
     ]
    }
   ],
   "source": [
    "fiction_genres = ficdf['genre']\n",
    "\n",
    "genrectr = Counter()\n",
    "\n",
    "for genre in fiction_genres:\n",
    "    gparts = set(genre.split('|'))\n",
    "    for g in gparts:\n",
    "        g = g.strip()\n",
    "        genrectr[g] += 1\n",
    "\n",
    "print()\n",
    "print(\"COMMON GENRES:\")\n",
    "for g, count in genrectr.most_common():\n",
    "    print(g, count)"
   ]
  },
  {
   "cell_type": "markdown",
   "metadata": {},
   "source": [
    "### checking duplicates"
   ]
  },
  {
   "cell_type": "code",
   "execution_count": 16,
   "metadata": {},
   "outputs": [],
   "source": [
    "df = pd.read_csv('fictionmeta/peizhenfic_summer.tsv', sep = '\\t')\n",
    "dups = df.pivot_table(index = ['gbindex'], aggfunc ='size') "
   ]
  },
  {
   "cell_type": "code",
   "execution_count": 17,
   "metadata": {},
   "outputs": [],
   "source": [
    "dups = dups.sort_values(ascending = False)"
   ]
  },
  {
   "cell_type": "code",
   "execution_count": 18,
   "metadata": {},
   "outputs": [
    {
     "data": {
      "text/plain": [
       "gbindex\n",
       "28346    3\n",
       "59236    1\n",
       "35997    1\n",
       "37243    1\n",
       "37180    1\n",
       "37118    1\n",
       "37046    1\n",
       "37029    1\n",
       "36953    1\n",
       "36914    1\n",
       "36758    1\n",
       "36626    1\n",
       "36612    1\n",
       "36602    1\n",
       "36414    1\n",
       "36160    1\n",
       "35805    1\n",
       "37415    1\n",
       "35717    1\n",
       "35507    1\n",
       "35500    1\n",
       "35119    1\n",
       "34996    1\n",
       "34939    1\n",
       "34883    1\n",
       "34852    1\n",
       "34830    1\n",
       "34811    1\n",
       "34801    1\n",
       "34297    1\n",
       "37250    1\n",
       "37453    1\n",
       "34009    1\n",
       "37627    1\n",
       "41256    1\n",
       "41182    1\n",
       "40893    1\n",
       "40874    1\n",
       "40735    1\n",
       "40726    1\n",
       "dtype: int64"
      ]
     },
     "execution_count": 18,
     "metadata": {},
     "output_type": "execute_result"
    }
   ],
   "source": [
    "dups[0:40]"
   ]
  },
  {
   "cell_type": "code",
   "execution_count": 19,
   "metadata": {},
   "outputs": [],
   "source": [
    "nodf.to_csv('titles_rejected.tsv', sep = '\\t', index = False)"
   ]
  },
  {
   "cell_type": "code",
   "execution_count": null,
   "metadata": {},
   "outputs": [],
   "source": []
  }
 ],
 "metadata": {
  "kernelspec": {
   "display_name": "Python 3",
   "language": "python",
   "name": "python3"
  },
  "language_info": {
   "codemirror_mode": {
    "name": "ipython",
    "version": 3
   },
   "file_extension": ".py",
   "mimetype": "text/x-python",
   "name": "python",
   "nbconvert_exporter": "python",
   "pygments_lexer": "ipython3",
   "version": "3.7.6"
  }
 },
 "nbformat": 4,
 "nbformat_minor": 4
}
