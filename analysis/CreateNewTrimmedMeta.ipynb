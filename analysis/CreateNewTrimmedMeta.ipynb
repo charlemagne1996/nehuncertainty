{
 "cells": [
  {
   "cell_type": "markdown",
   "id": "young-postage",
   "metadata": {},
   "source": [
    "# Create metadata for new trimmed texts"
   ]
  },
  {
   "cell_type": "code",
   "execution_count": 4,
   "id": "academic-tender",
   "metadata": {},
   "outputs": [],
   "source": [
    "import os\n",
    "import pandas as pd"
   ]
  },
  {
   "cell_type": "code",
   "execution_count": 9,
   "id": "supported-coaching",
   "metadata": {},
   "outputs": [],
   "source": [
    "meta = pd.read_csv('../metadata/cleanrowswithhathimatches.tsv', sep = '\\t')"
   ]
  },
  {
   "cell_type": "code",
   "execution_count": 5,
   "id": "entertaining-territory",
   "metadata": {},
   "outputs": [
    {
     "name": "stdout",
     "output_type": "stream",
     "text": [
      "137\n"
     ]
    }
   ],
   "source": [
    "folders = ['Morgan_trimmed', 'Peizhen_trimmed', 'Ted_trimmed', 'Wenyi_trimmed']\n",
    "root = '/Users/tunder/Box Sync/NEHproject/GutenbergRaw/Pre-1900 To Trim/'\n",
    "\n",
    "allids = []\n",
    "\n",
    "for folder in folders:\n",
    "    files = os.listdir(root + folder + '/')\n",
    "    gutids = [x.replace('.txt', '') for x in files if x.endswith('.txt')]\n",
    "    allids.extend(gutids)\n",
    "    \n",
    "print(len(allids))"
   ]
  },
  {
   "cell_type": "code",
   "execution_count": 10,
   "id": "julian-enzyme",
   "metadata": {},
   "outputs": [
    {
     "data": {
      "text/plain": [
       "(140, 24)"
      ]
     },
     "execution_count": 10,
     "metadata": {},
     "output_type": "execute_result"
    }
   ],
   "source": [
    "newmeta = meta.loc[meta.gbindex.isin(allids), : ]\n",
    "newmeta.shape"
   ]
  },
  {
   "cell_type": "code",
   "execution_count": 11,
   "id": "leading-carroll",
   "metadata": {},
   "outputs": [
    {
     "name": "stdout",
     "output_type": "stream",
     "text": [
      "56644\n",
      "28054\n",
      "27533\n"
     ]
    }
   ],
   "source": [
    "gbindexes = set(meta['gbindex'])\n",
    "\n",
    "for anid in allids:\n",
    "    if anid not in gbindexes:\n",
    "        print(anid)"
   ]
  },
  {
   "cell_type": "code",
   "execution_count": 15,
   "id": "distributed-sacramento",
   "metadata": {},
   "outputs": [
    {
     "data": {
      "text/html": [
       "<div>\n",
       "<style scoped>\n",
       "    .dataframe tbody tr th:only-of-type {\n",
       "        vertical-align: middle;\n",
       "    }\n",
       "\n",
       "    .dataframe tbody tr th {\n",
       "        vertical-align: top;\n",
       "    }\n",
       "\n",
       "    .dataframe thead th {\n",
       "        text-align: right;\n",
       "    }\n",
       "</style>\n",
       "<table border=\"1\" class=\"dataframe\">\n",
       "  <thead>\n",
       "    <tr style=\"text-align: right;\">\n",
       "      <th></th>\n",
       "      <th>docid</th>\n",
       "      <th>author</th>\n",
       "      <th>authordate</th>\n",
       "      <th>title</th>\n",
       "      <th>latestcomp</th>\n",
       "      <th>hathidate</th>\n",
       "      <th>imprint</th>\n",
       "      <th>gutenstring</th>\n",
       "      <th>enumcron</th>\n",
       "      <th>gbindex</th>\n",
       "      <th>...</th>\n",
       "      <th>contents</th>\n",
       "      <th>instances</th>\n",
       "      <th>genre</th>\n",
       "      <th>audience</th>\n",
       "      <th>authgender</th>\n",
       "      <th>multiplehtids</th>\n",
       "      <th>comments</th>\n",
       "      <th>coder</th>\n",
       "      <th>Folder</th>\n",
       "      <th>Trimmed</th>\n",
       "    </tr>\n",
       "  </thead>\n",
       "  <tbody>\n",
       "    <tr>\n",
       "      <th>114</th>\n",
       "      <td>wu.89091848879</td>\n",
       "      <td>Marguerite, Queen</td>\n",
       "      <td>1553-1615</td>\n",
       "      <td>Memoirs of Marguerite de Valois</td>\n",
       "      <td>1615</td>\n",
       "      <td>1813.0</td>\n",
       "      <td>NaN</td>\n",
       "      <td>NaN</td>\n",
       "      <td>NaN</td>\n",
       "      <td>3841</td>\n",
       "      <td>...</td>\n",
       "      <td>NaN</td>\n",
       "      <td>NaN</td>\n",
       "      <td>bio</td>\n",
       "      <td>NaN</td>\n",
       "      <td>f</td>\n",
       "      <td>NaN</td>\n",
       "      <td>NaN</td>\n",
       "      <td>ted</td>\n",
       "      <td>NaN</td>\n",
       "      <td>NaN</td>\n",
       "    </tr>\n",
       "    <tr>\n",
       "      <th>252</th>\n",
       "      <td>uc2.ark+=13960=t48p5x92b</td>\n",
       "      <td>Ebers, Georg</td>\n",
       "      <td>1837-1898.</td>\n",
       "      <td>Cleopatra</td>\n",
       "      <td>1894</td>\n",
       "      <td>1894.0</td>\n",
       "      <td>London;Sampson Low, Marston;</td>\n",
       "      <td>Ebers, Georg | Cleopatra</td>\n",
       "      <td>v.002</td>\n",
       "      <td>36294</td>\n",
       "      <td>...</td>\n",
       "      <td>NaN</td>\n",
       "      <td>1.0</td>\n",
       "      <td>fic | historical | romance</td>\n",
       "      <td>NaN</td>\n",
       "      <td>m</td>\n",
       "      <td>NaN</td>\n",
       "      <td>NaN</td>\n",
       "      <td>morgan</td>\n",
       "      <td>NaN</td>\n",
       "      <td>NaN</td>\n",
       "    </tr>\n",
       "    <tr>\n",
       "      <th>696</th>\n",
       "      <td>dul1.ark+=13960=t4hm5zs2h</td>\n",
       "      <td>Haywood, Eliza Fowler</td>\n",
       "      <td>1693?-1756</td>\n",
       "      <td>The history of Jemmy and Jenny Jessamy</td>\n",
       "      <td>1753</td>\n",
       "      <td>1753.0</td>\n",
       "      <td>NaN</td>\n",
       "      <td>NaN</td>\n",
       "      <td>NaN</td>\n",
       "      <td>haywood.09</td>\n",
       "      <td>...</td>\n",
       "      <td>NaN</td>\n",
       "      <td>NaN</td>\n",
       "      <td>fic</td>\n",
       "      <td>NaN</td>\n",
       "      <td>f</td>\n",
       "      <td>y</td>\n",
       "      <td>three volumes</td>\n",
       "      <td>m</td>\n",
       "      <td>NaN</td>\n",
       "      <td>NaN</td>\n",
       "    </tr>\n",
       "    <tr>\n",
       "      <th>703</th>\n",
       "      <td>uc1.31175035193542</td>\n",
       "      <td>Sarah, Fielding</td>\n",
       "      <td>1710-1768</td>\n",
       "      <td>The Cry</td>\n",
       "      <td>1754</td>\n",
       "      <td>1754.0</td>\n",
       "      <td>NaN</td>\n",
       "      <td>NaN</td>\n",
       "      <td>NaN</td>\n",
       "      <td>fieldinz.01</td>\n",
       "      <td>...</td>\n",
       "      <td>NaN</td>\n",
       "      <td>NaN</td>\n",
       "      <td>fic</td>\n",
       "      <td>NaN</td>\n",
       "      <td>f</td>\n",
       "      <td>y</td>\n",
       "      <td>two volumes</td>\n",
       "      <td>m</td>\n",
       "      <td>NaN</td>\n",
       "      <td>NaN</td>\n",
       "    </tr>\n",
       "    <tr>\n",
       "      <th>704</th>\n",
       "      <td>nyp.33433074925987</td>\n",
       "      <td>Thomas, Amory</td>\n",
       "      <td>1691?-1788?</td>\n",
       "      <td>The life of John Buncle, esq.</td>\n",
       "      <td>1766</td>\n",
       "      <td>1766.0</td>\n",
       "      <td>NaN</td>\n",
       "      <td>NaN</td>\n",
       "      <td>NaN</td>\n",
       "      <td>amory.01</td>\n",
       "      <td>...</td>\n",
       "      <td>NaN</td>\n",
       "      <td>NaN</td>\n",
       "      <td>fic</td>\n",
       "      <td>NaN</td>\n",
       "      <td>m</td>\n",
       "      <td>y</td>\n",
       "      <td>two volumes</td>\n",
       "      <td>m</td>\n",
       "      <td>NaN</td>\n",
       "      <td>NaN</td>\n",
       "    </tr>\n",
       "    <tr>\n",
       "      <th>706</th>\n",
       "      <td>nyp.33433074923099</td>\n",
       "      <td>Charles, Johnstone</td>\n",
       "      <td>1719?-1800?</td>\n",
       "      <td>Chrysal; or, The adventures of a guinea</td>\n",
       "      <td>1767</td>\n",
       "      <td>1767.0</td>\n",
       "      <td>NaN</td>\n",
       "      <td>NaN</td>\n",
       "      <td>NaN</td>\n",
       "      <td>johnston.01</td>\n",
       "      <td>...</td>\n",
       "      <td>NaN</td>\n",
       "      <td>NaN</td>\n",
       "      <td>fic</td>\n",
       "      <td>NaN</td>\n",
       "      <td>m</td>\n",
       "      <td>y</td>\n",
       "      <td>two ids; 4 volumes</td>\n",
       "      <td>m</td>\n",
       "      <td>NaN</td>\n",
       "      <td>NaN</td>\n",
       "    </tr>\n",
       "  </tbody>\n",
       "</table>\n",
       "<p>6 rows × 24 columns</p>\n",
       "</div>"
      ],
      "text/plain": [
       "                         docid                 author   authordate  \\\n",
       "114             wu.89091848879      Marguerite, Queen    1553-1615   \n",
       "252   uc2.ark+=13960=t48p5x92b           Ebers, Georg   1837-1898.   \n",
       "696  dul1.ark+=13960=t4hm5zs2h  Haywood, Eliza Fowler   1693?-1756   \n",
       "703         uc1.31175035193542        Sarah, Fielding    1710-1768   \n",
       "704         nyp.33433074925987          Thomas, Amory  1691?-1788?   \n",
       "706         nyp.33433074923099     Charles, Johnstone  1719?-1800?   \n",
       "\n",
       "                                       title  latestcomp  hathidate  \\\n",
       "114          Memoirs of Marguerite de Valois        1615     1813.0   \n",
       "252                                Cleopatra        1894     1894.0   \n",
       "696   The history of Jemmy and Jenny Jessamy        1753     1753.0   \n",
       "703                                  The Cry        1754     1754.0   \n",
       "704            The life of John Buncle, esq.        1766     1766.0   \n",
       "706  Chrysal; or, The adventures of a guinea        1767     1767.0   \n",
       "\n",
       "                          imprint               gutenstring enumcron  \\\n",
       "114                           NaN                       NaN      NaN   \n",
       "252  London;Sampson Low, Marston;  Ebers, Georg | Cleopatra    v.002   \n",
       "696                           NaN                       NaN      NaN   \n",
       "703                           NaN                       NaN      NaN   \n",
       "704                           NaN                       NaN      NaN   \n",
       "706                           NaN                       NaN      NaN   \n",
       "\n",
       "         gbindex  ...  contents  instances                       genre  \\\n",
       "114         3841  ...       NaN        NaN                         bio   \n",
       "252        36294  ...       NaN        1.0  fic | historical | romance   \n",
       "696   haywood.09  ...       NaN        NaN                         fic   \n",
       "703  fieldinz.01  ...       NaN        NaN                         fic   \n",
       "704     amory.01  ...       NaN        NaN                         fic   \n",
       "706  johnston.01  ...       NaN        NaN                         fic   \n",
       "\n",
       "    audience authgender  multiplehtids            comments   coder Folder  \\\n",
       "114      NaN          f            NaN                 NaN     ted    NaN   \n",
       "252      NaN          m            NaN                 NaN  morgan    NaN   \n",
       "696      NaN          f              y       three volumes       m    NaN   \n",
       "703      NaN          f              y         two volumes       m    NaN   \n",
       "704      NaN          m              y         two volumes       m    NaN   \n",
       "706      NaN          m              y  two ids; 4 volumes       m    NaN   \n",
       "\n",
       "    Trimmed  \n",
       "114     NaN  \n",
       "252     NaN  \n",
       "696     NaN  \n",
       "703     NaN  \n",
       "704     NaN  \n",
       "706     NaN  \n",
       "\n",
       "[6 rows x 24 columns]"
      ]
     },
     "execution_count": 15,
     "metadata": {},
     "output_type": "execute_result"
    }
   ],
   "source": [
    "newmeta.loc[newmeta.duplicated(subset = 'gbindex', keep = 'last'), : ]"
   ]
  },
  {
   "cell_type": "code",
   "execution_count": 17,
   "id": "spectacular-broadway",
   "metadata": {},
   "outputs": [],
   "source": [
    "dropthese = newmeta.loc[newmeta.duplicated(subset = 'gbindex', keep = 'last'), : ].index.tolist()"
   ]
  },
  {
   "cell_type": "code",
   "execution_count": 18,
   "id": "supposed-johnson",
   "metadata": {},
   "outputs": [
    {
     "data": {
      "text/plain": [
       "(134, 24)"
      ]
     },
     "execution_count": 18,
     "metadata": {},
     "output_type": "execute_result"
    }
   ],
   "source": [
    "newmeta = newmeta.drop(labels = dropthese)\n",
    "newmeta.shape"
   ]
  },
  {
   "cell_type": "code",
   "execution_count": 19,
   "id": "smaller-concentration",
   "metadata": {},
   "outputs": [],
   "source": [
    "newmeta.to_csv('/Users/tunder/work/gh_align/first_trimmed_batch.tsv', sep = '\\t')"
   ]
  },
  {
   "cell_type": "code",
   "execution_count": null,
   "id": "sunset-investing",
   "metadata": {},
   "outputs": [],
   "source": []
  }
 ],
 "metadata": {
  "kernelspec": {
   "display_name": "Python 3",
   "language": "python",
   "name": "python3"
  },
  "language_info": {
   "codemirror_mode": {
    "name": "ipython",
    "version": 3
   },
   "file_extension": ".py",
   "mimetype": "text/x-python",
   "name": "python",
   "nbconvert_exporter": "python",
   "pygments_lexer": "ipython3",
   "version": "3.7.6"
  }
 },
 "nbformat": 4,
 "nbformat_minor": 5
}
