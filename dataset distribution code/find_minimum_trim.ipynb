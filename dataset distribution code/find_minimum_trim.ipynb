{
 "cells": [
  {
   "cell_type": "markdown",
   "id": "given-tooth",
   "metadata": {},
   "source": [
    "# Getting a minimum number of texts to trim\n",
    "\n",
    "Code by Morgan Lundy, Peizhen Wu, and Ted Underwood"
   ]
  },
  {
   "cell_type": "code",
   "execution_count": 2,
   "id": "married-manor",
   "metadata": {},
   "outputs": [],
   "source": [
    "import pandas as pd\n",
    "import numpy as np\n",
    "from pathlib import Path\n",
    "import os\n"
   ]
  },
  {
   "cell_type": "code",
   "execution_count": 3,
   "id": "greenhouse-usage",
   "metadata": {},
   "outputs": [
    {
     "data": {
      "text/html": [
       "<div>\n",
       "<style scoped>\n",
       "    .dataframe tbody tr th:only-of-type {\n",
       "        vertical-align: middle;\n",
       "    }\n",
       "\n",
       "    .dataframe tbody tr th {\n",
       "        vertical-align: top;\n",
       "    }\n",
       "\n",
       "    .dataframe thead th {\n",
       "        text-align: right;\n",
       "    }\n",
       "</style>\n",
       "<table border=\"1\" class=\"dataframe\">\n",
       "  <thead>\n",
       "    <tr style=\"text-align: right;\">\n",
       "      <th></th>\n",
       "      <th>Unnamed: 0</th>\n",
       "      <th>docid</th>\n",
       "      <th>author</th>\n",
       "      <th>authordate</th>\n",
       "      <th>title</th>\n",
       "      <th>latestcomp</th>\n",
       "      <th>hathidate</th>\n",
       "      <th>imprint</th>\n",
       "      <th>gutenstring</th>\n",
       "      <th>enumcron</th>\n",
       "      <th>...</th>\n",
       "      <th>contents</th>\n",
       "      <th>instances</th>\n",
       "      <th>genre</th>\n",
       "      <th>audience</th>\n",
       "      <th>authgender</th>\n",
       "      <th>multiplehtids</th>\n",
       "      <th>comments</th>\n",
       "      <th>coder</th>\n",
       "      <th>Folder</th>\n",
       "      <th>Trimmed</th>\n",
       "    </tr>\n",
       "  </thead>\n",
       "  <tbody>\n",
       "    <tr>\n",
       "      <th>0</th>\n",
       "      <td>0</td>\n",
       "      <td>loc.ark=+13960+t5p851b8s</td>\n",
       "      <td>Reid, Stuart J.</td>\n",
       "      <td>NaN</td>\n",
       "      <td>Lord John Russell</td>\n",
       "      <td>1895</td>\n",
       "      <td>NaN</td>\n",
       "      <td>New York;Harper &amp; brothers;1</td>\n",
       "      <td>Reid, Stuart J. | Lord John Russell</td>\n",
       "      <td>&lt;blank&gt;</td>\n",
       "      <td>...</td>\n",
       "      <td>NaN</td>\n",
       "      <td>NaN</td>\n",
       "      <td>bio</td>\n",
       "      <td>NaN</td>\n",
       "      <td>u</td>\n",
       "      <td>NaN</td>\n",
       "      <td>NaN</td>\n",
       "      <td>morgan</td>\n",
       "      <td>gutenbiotrimmed</td>\n",
       "      <td>Trimmed</td>\n",
       "    </tr>\n",
       "    <tr>\n",
       "      <th>1</th>\n",
       "      <td>1</td>\n",
       "      <td>hvd.32044070870779</td>\n",
       "      <td>Smiles, Samuel,</td>\n",
       "      <td>NaN</td>\n",
       "      <td>Lives of the engineers</td>\n",
       "      <td>1879</td>\n",
       "      <td>NaN</td>\n",
       "      <td>London;J. Murray;1874-1877.</td>\n",
       "      <td>Smiles, Samuel | Lives of the Engineers</td>\n",
       "      <td>v. 5</td>\n",
       "      <td>...</td>\n",
       "      <td>NaN</td>\n",
       "      <td>NaN</td>\n",
       "      <td>bio | short</td>\n",
       "      <td>NaN</td>\n",
       "      <td>m</td>\n",
       "      <td>NaN</td>\n",
       "      <td>2 people, mixed together (not one per chapter)</td>\n",
       "      <td>morgan</td>\n",
       "      <td>gutenbiotrimmed</td>\n",
       "      <td>Trimmed</td>\n",
       "    </tr>\n",
       "    <tr>\n",
       "      <th>2</th>\n",
       "      <td>2</td>\n",
       "      <td>mdp.39015005892362</td>\n",
       "      <td>Cruttwell, Maud.</td>\n",
       "      <td>NaN</td>\n",
       "      <td>Luca Signorelli</td>\n",
       "      <td>1899</td>\n",
       "      <td>NaN</td>\n",
       "      <td>London;G. Bell &amp; sons;1899.</td>\n",
       "      <td>Cruttwell, Maud | Luca Signorelli</td>\n",
       "      <td>&lt;blank&gt;</td>\n",
       "      <td>...</td>\n",
       "      <td>NaN</td>\n",
       "      <td>NaN</td>\n",
       "      <td>bio</td>\n",
       "      <td>NaN</td>\n",
       "      <td>f</td>\n",
       "      <td>NaN</td>\n",
       "      <td>NaN</td>\n",
       "      <td>morgan</td>\n",
       "      <td>gutenbiotrimmed</td>\n",
       "      <td>Trimmed</td>\n",
       "    </tr>\n",
       "    <tr>\n",
       "      <th>3</th>\n",
       "      <td>3</td>\n",
       "      <td>mdp.39015051108531</td>\n",
       "      <td>Bettany, George Thomas,</td>\n",
       "      <td>NaN</td>\n",
       "      <td>Life of Charles Darwin</td>\n",
       "      <td>1887</td>\n",
       "      <td>NaN</td>\n",
       "      <td>London;W. Scott;1887.</td>\n",
       "      <td>Bettany, George Thomas | Life of Charles Darwin</td>\n",
       "      <td>&lt;blank&gt;</td>\n",
       "      <td>...</td>\n",
       "      <td>NaN</td>\n",
       "      <td>NaN</td>\n",
       "      <td>bio</td>\n",
       "      <td>NaN</td>\n",
       "      <td>m</td>\n",
       "      <td>NaN</td>\n",
       "      <td>NaN</td>\n",
       "      <td>morgan</td>\n",
       "      <td>gutenbiotrimmed</td>\n",
       "      <td>Trimmed</td>\n",
       "    </tr>\n",
       "    <tr>\n",
       "      <th>4</th>\n",
       "      <td>4</td>\n",
       "      <td>loc.ark=+13960+t6b27z54n</td>\n",
       "      <td>Gay, Sydney Howard,</td>\n",
       "      <td>NaN</td>\n",
       "      <td>James Madison</td>\n",
       "      <td>1889</td>\n",
       "      <td>NaN</td>\n",
       "      <td>Boston;New York;Houghton, Mi</td>\n",
       "      <td>Gay, Sydney Howard | James Madison</td>\n",
       "      <td>&lt;blank&gt;</td>\n",
       "      <td>...</td>\n",
       "      <td>NaN</td>\n",
       "      <td>NaN</td>\n",
       "      <td>bio</td>\n",
       "      <td>NaN</td>\n",
       "      <td>u</td>\n",
       "      <td>NaN</td>\n",
       "      <td>NaN</td>\n",
       "      <td>morgan</td>\n",
       "      <td>gutenbiotrimmed</td>\n",
       "      <td>Trimmed</td>\n",
       "    </tr>\n",
       "  </tbody>\n",
       "</table>\n",
       "<p>5 rows × 25 columns</p>\n",
       "</div>"
      ],
      "text/plain": [
       "   Unnamed: 0                     docid                   author authordate  \\\n",
       "0           0  loc.ark=+13960+t5p851b8s          Reid, Stuart J.        NaN   \n",
       "1           1        hvd.32044070870779          Smiles, Samuel,        NaN   \n",
       "2           2        mdp.39015005892362         Cruttwell, Maud.        NaN   \n",
       "3           3        mdp.39015051108531  Bettany, George Thomas,        NaN   \n",
       "4           4  loc.ark=+13960+t6b27z54n      Gay, Sydney Howard,        NaN   \n",
       "\n",
       "                    title  latestcomp  hathidate  \\\n",
       "0       Lord John Russell        1895        NaN   \n",
       "1  Lives of the engineers        1879        NaN   \n",
       "2         Luca Signorelli        1899        NaN   \n",
       "3  Life of Charles Darwin        1887        NaN   \n",
       "4           James Madison        1889        NaN   \n",
       "\n",
       "                        imprint  \\\n",
       "0  New York;Harper & brothers;1   \n",
       "1   London;J. Murray;1874-1877.   \n",
       "2   London;G. Bell & sons;1899.   \n",
       "3         London;W. Scott;1887.   \n",
       "4  Boston;New York;Houghton, Mi   \n",
       "\n",
       "                                       gutenstring enumcron  ... contents  \\\n",
       "0              Reid, Stuart J. | Lord John Russell  <blank>  ...      NaN   \n",
       "1          Smiles, Samuel | Lives of the Engineers     v. 5  ...      NaN   \n",
       "2                Cruttwell, Maud | Luca Signorelli  <blank>  ...      NaN   \n",
       "3  Bettany, George Thomas | Life of Charles Darwin  <blank>  ...      NaN   \n",
       "4               Gay, Sydney Howard | James Madison  <blank>  ...      NaN   \n",
       "\n",
       "   instances        genre audience authgender multiplehtids  \\\n",
       "0        NaN          bio      NaN          u           NaN   \n",
       "1        NaN  bio | short      NaN          m           NaN   \n",
       "2        NaN          bio      NaN          f           NaN   \n",
       "3        NaN          bio      NaN          m           NaN   \n",
       "4        NaN          bio      NaN          u           NaN   \n",
       "\n",
       "                                         comments   coder           Folder  \\\n",
       "0                                             NaN  morgan  gutenbiotrimmed   \n",
       "1  2 people, mixed together (not one per chapter)  morgan  gutenbiotrimmed   \n",
       "2                                             NaN  morgan  gutenbiotrimmed   \n",
       "3                                             NaN  morgan  gutenbiotrimmed   \n",
       "4                                             NaN  morgan  gutenbiotrimmed   \n",
       "\n",
       "   Trimmed  \n",
       "0  Trimmed  \n",
       "1  Trimmed  \n",
       "2  Trimmed  \n",
       "3  Trimmed  \n",
       "4  Trimmed  \n",
       "\n",
       "[5 rows x 25 columns]"
      ]
     },
     "execution_count": 3,
     "metadata": {},
     "output_type": "execute_result"
    }
   ],
   "source": [
    "alltexts = pd.read_csv('alltexts.csv') # this file should be in the folder already\n",
    "alltexts.head()"
   ]
  },
  {
   "cell_type": "markdown",
   "id": "falling-nowhere",
   "metadata": {},
   "source": [
    "**ML:** What are our \"rarest\" texts that we know we will need to trim? \n",
    "Texts by women, written in the 18thc (or our oldest time \"chunk\") that are biographies ... \n",
    "are these the 3 parameters we're sticking with? \n",
    "\n",
    "**TU:** Yes; let's define the oldest time chunk as before the median date of fiction."
   ]
  },
  {
   "cell_type": "code",
   "execution_count": 5,
   "id": "arabic-inspection",
   "metadata": {},
   "outputs": [
    {
     "data": {
      "text/plain": [
       "654"
      ]
     },
     "execution_count": 5,
     "metadata": {},
     "output_type": "execute_result"
    }
   ],
   "source": [
    "alltexts['isfic'] = alltexts['genre'].str.startswith('fic')\n",
    "sum(alltexts['isfic'])"
   ]
  },
  {
   "cell_type": "code",
   "execution_count": 6,
   "id": "caroline-typing",
   "metadata": {},
   "outputs": [
    {
     "data": {
      "text/plain": [
       "1905.0"
      ]
     },
     "execution_count": 6,
     "metadata": {},
     "output_type": "execute_result"
    }
   ],
   "source": [
    "np.median(alltexts.loc[alltexts['isfic'], 'latestcomp'])"
   ]
  },
  {
   "cell_type": "markdown",
   "id": "thousand-grill",
   "metadata": {},
   "source": [
    "The median date is actually quite late. Let's make this a round number and call the two classes \"up to 1899\" and \"1900 and after.\""
   ]
  },
  {
   "cell_type": "code",
   "execution_count": 7,
   "id": "introductory-modeling",
   "metadata": {},
   "outputs": [
    {
     "data": {
      "text/plain": [
       "113"
      ]
     },
     "execution_count": 7,
     "metadata": {},
     "output_type": "execute_result"
    }
   ],
   "source": [
    "sum(~pd.isnull(alltexts.loc[alltexts['isfic'] & (alltexts['latestcomp'] < 1900), 'Trimmed']))"
   ]
  },
  {
   "cell_type": "code",
   "execution_count": 9,
   "id": "alive-toolbox",
   "metadata": {},
   "outputs": [
    {
     "data": {
      "text/plain": [
       "261"
      ]
     },
     "execution_count": 9,
     "metadata": {},
     "output_type": "execute_result"
    }
   ],
   "source": [
    "len(alltexts.loc[alltexts['isfic'] & (alltexts['latestcomp'] < 1900), 'Trimmed'])"
   ]
  },
  {
   "cell_type": "markdown",
   "id": "compressed-economy",
   "metadata": {},
   "source": [
    "So there's about 150 texts we should probably trim right there. \n",
    "\n",
    "We could start with those; we're pretty sure we're going to need to trim them, both because we'll need them for the chronological model: 20c / before 20c, and because we'll need many of them for chronological matching if we're trying to model a *non-chronological* boundary e.g. novels by women to those by men. \n",
    "\n",
    "In a situation like that, it's usually a good idea to use matching methods (select negative examples that pretty closely match the positive examples by date), because language change is otherwise such a powerful signal that it otherwise inevitably contaminates your model. And since pre-1900 texts are spread out across the timeline, we'll probably do a better job of matching if we maximize their density.\n",
    "\n",
    "So first, I'll need to download some of these texts from Gutenberg! We don't even have them all yet.\n",
    "\n",
    "Then we can think about 20c texts."
   ]
  },
  {
   "cell_type": "code",
   "execution_count": 10,
   "id": "satellite-april",
   "metadata": {},
   "outputs": [
    {
     "data": {
      "text/plain": [
       "393"
      ]
     },
     "execution_count": 10,
     "metadata": {},
     "output_type": "execute_result"
    }
   ],
   "source": [
    "len(alltexts.loc[alltexts['isfic'] & (alltexts['latestcomp'] >= 1900), 'Trimmed'])"
   ]
  },
  {
   "cell_type": "code",
   "execution_count": 12,
   "id": "controlled-ratio",
   "metadata": {},
   "outputs": [
    {
     "data": {
      "text/plain": [
       "62"
      ]
     },
     "execution_count": 12,
     "metadata": {},
     "output_type": "execute_result"
    }
   ],
   "source": [
    "sum(~pd.isnull(alltexts.loc[alltexts['isfic'] & (alltexts['latestcomp'] >= 1900), 'Trimmed']))"
   ]
  },
  {
   "cell_type": "markdown",
   "id": "uniform-tribute",
   "metadata": {},
   "source": [
    "We also have some trimming to do here, but not as much as it looks like, because we can be strategic."
   ]
  },
  {
   "cell_type": "code",
   "execution_count": null,
   "id": "dependent-drink",
   "metadata": {},
   "outputs": [],
   "source": []
  }
 ],
 "metadata": {
  "kernelspec": {
   "display_name": "Python 3",
   "language": "python",
   "name": "python3"
  },
  "language_info": {
   "codemirror_mode": {
    "name": "ipython",
    "version": 3
   },
   "file_extension": ".py",
   "mimetype": "text/x-python",
   "name": "python",
   "nbconvert_exporter": "python",
   "pygments_lexer": "ipython3",
   "version": "3.7.6"
  }
 },
 "nbformat": 4,
 "nbformat_minor": 5
}
